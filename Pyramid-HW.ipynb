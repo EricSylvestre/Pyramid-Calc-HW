{
 "cells": [
  {
   "cell_type": "code",
   "execution_count": 18,
   "id": "65dc2322",
   "metadata": {},
   "outputs": [
    {
     "name": "stdout",
     "output_type": "stream",
     "text": [
      "    X\n",
      "   XXX\n",
      "  XXXXX\n",
      " XXXXXXX\n",
      "XXXXXXXXX\n"
     ]
    }
   ],
   "source": [
    "n = 5\n",
    "\n",
    "def print_pyramid_line(num_of_lines, line_index):\n",
    "    num_of_spaces = (num_of_lines -1) - line_index \n",
    "    num_of_xs = 1 + (line_index*2)\n",
    "    print(\" \" * num_of_spaces + \"X\" * num_of_xs)\n",
    "    \n",
    "for level in range(n):\n",
    "    print_pyramid_line(n, level)\n"
   ]
  }
 ],
 "metadata": {
  "kernelspec": {
   "display_name": "Python 3 (ipykernel)",
   "language": "python",
   "name": "python3"
  },
  "language_info": {
   "codemirror_mode": {
    "name": "ipython",
    "version": 3
   },
   "file_extension": ".py",
   "mimetype": "text/x-python",
   "name": "python",
   "nbconvert_exporter": "python",
   "pygments_lexer": "ipython3",
   "version": "3.9.7"
  }
 },
 "nbformat": 4,
 "nbformat_minor": 5
}
