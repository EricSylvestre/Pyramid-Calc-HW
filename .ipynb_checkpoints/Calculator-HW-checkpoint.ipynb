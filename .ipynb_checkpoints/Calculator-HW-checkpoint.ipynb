{
 "cells": [
  {
   "cell_type": "code",
   "execution_count": null,
   "id": "bc63d178",
   "metadata": {},
   "outputs": [],
   "source": [
    "#addition\n",
    "def add(x, y):\n",
    "    return x +y\n",
    "\n",
    "#subtraction\n",
    "def subtract(x, y):\n",
    "    return x -y\n",
    "\n",
    "#multiplication\n",
    "def multiply(x, y):\n",
    "    return x * y\n",
    "\n",
    "# division\n",
    "def divide(x, y):\n",
    "    return x / y\n",
    "\n",
    "my_name = input(\"Hello, what's your name? \")\n",
    "\n",
    "print(f\"Hello! I am a calculator. Pleased to meet you.\")\n",
    "\n",
    "print(f\"Which calculations are you looking to do today, {my_name} ? \")\n",
    "\n",
    "\n",
    "while True:\n",
    "    user_input = input(\"Add/Subtract/Multiply/Divide: \")\n",
    "    \n",
    "    if user_input in (\"Add\", \"Subtract\", \"Multiply\", \"Divide\"):\n",
    "        num1 = float(input(\"Enter first number: \"))\n",
    "        num2 = float(input(\"Enter second number: \"))\n",
    "        \n",
    "        if user_input == \"Add\":\n",
    "            print(num1, \"+\" , num2, \"=\", add(num1, num2))\n",
    "        elif user_input ==\"Subtract\":\n",
    "            print(num1, \"-\" , num2, \"=\", subtract(num1, num2))\n",
    "        elif user_input == \"Multiply\":\n",
    "            print(num1, \"*\", num2, \"=\", multiply(num1, num2))\n",
    "        elif user_input == \"Divide\":\n",
    "            print(num1, \"/\", num2, \"=\", divide(num1, num2))\n",
    "            \n",
    "            \n",
    "        another_calc = input(\"Would you like to do another calculation? Yes or No?\")   \n",
    "        if (another_calc == \"No\") or (another_calc == \"no\"):\n",
    "            print(f\"Come back soon, {my_name} !\")\n",
    "            break\n",
    "        elif (another_calc == \"Yes\") or (another_calc == \"yes\"):\n",
    "            continue\n",
    "   \n",
    "        \n",
    "        \n",
    "                \n",
    "    else:\n",
    "        print(\"Input not recognized\")\n",
    "    \n",
    "\n",
    "\n",
    "                   \n",
    "                   \n",
    "    "
   ]
  },
  {
   "cell_type": "markdown",
   "id": "50433c95",
   "metadata": {},
   "source": [
    "##### "
   ]
  },
  {
   "cell_type": "code",
   "execution_count": 13,
   "id": "9da55203",
   "metadata": {},
   "outputs": [
    {
     "data": {
      "text/plain": [
       "False"
      ]
     },
     "execution_count": 13,
     "metadata": {},
     "output_type": "execute_result"
    }
   ],
   "source": []
  },
  {
   "cell_type": "code",
   "execution_count": null,
   "id": "bb311b5d",
   "metadata": {},
   "outputs": [],
   "source": []
  }
 ],
 "metadata": {
  "kernelspec": {
   "display_name": "Python 3 (ipykernel)",
   "language": "python",
   "name": "python3"
  },
  "language_info": {
   "codemirror_mode": {
    "name": "ipython",
    "version": 3
   },
   "file_extension": ".py",
   "mimetype": "text/x-python",
   "name": "python",
   "nbconvert_exporter": "python",
   "pygments_lexer": "ipython3",
   "version": "3.9.7"
  }
 },
 "nbformat": 4,
 "nbformat_minor": 5
}
